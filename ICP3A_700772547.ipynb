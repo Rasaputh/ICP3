{
 "cells": [
  {
   "cell_type": "markdown",
   "id": "08635d22-ffd3-492d-aa13-6cc7744ef289",
   "metadata": {},
   "source": [
    "1. Numpy"
   ]
  },
  {
   "cell_type": "code",
   "execution_count": null,
   "id": "531b696e-0176-4a92-8da3-de6f9c310d5f",
   "metadata": {},
   "outputs": [],
   "source": [
    "a. Using NumPy create random vector of size 15 having only Integers in the range 1-20.\n",
    "1. Reshape the array to 3 by 5\n",
    "2. Print array shape.\n",
    "3. Replace the max in each row b"
   ]
  },
  {
   "cell_type": "code",
   "execution_count": 2,
   "id": "9848679f-b8e1-4590-b10f-ad004073075a",
   "metadata": {},
   "outputs": [
    {
     "name": "stdout",
     "output_type": "stream",
     "text": [
      "Original Array: [20 16 12  3 14  4 13  3  9  6 15  7 17 13 15]\n",
      "\n",
      "Reshaped Array (3x5):\n",
      " [[20 16 12  3 14]\n",
      " [ 4 13  3  9  6]\n",
      " [15  7 17 13 15]]\n",
      "\n",
      "Array Shape: (3, 5)\n",
      "\n",
      "Array after replacing max in each row by 0:\n",
      " [[ 0 16 12  3 14]\n",
      " [ 4  0  3  9  6]\n",
      " [15  7  0 13 15]]\n"
     ]
    }
   ],
   "source": [
    "\n",
    "import numpy as np\n",
    "\n",
    "# 1️⃣ Create random vector of size 15 with integers in range 1-20\n",
    "arr = np.random.randint(1, 21, size=15)\n",
    "print(\"Original Array:\", arr)\n",
    "\n",
    "# 2️⃣ Reshape to 3 x 5\n",
    "arr = arr.reshape(3, 5)\n",
    "print(\"\\nReshaped Array (3x5):\\n\", arr)\n",
    "\n",
    "# 3️⃣ Print array shape\n",
    "print(\"\\nArray Shape:\", arr.shape)\n",
    "\n",
    "# 4️⃣ Replace max in each row with 0\n",
    "# Find max in each row and replace it\n",
    "for i in range(arr.shape[0]):\n",
    "    row_max = arr[i].max()\n",
    "    arr[i][arr[i] == row_max] = 0\n",
    "\n",
    "print(\"\\nArray after replacing max in each row by 0:\\n\", arr)\n"
   ]
  },
  {
   "cell_type": "markdown",
   "id": "e1bed2c0-c13e-4898-9ecb-50142a213f72",
   "metadata": {},
   "source": [
    "b. Create a 2-dimensional array of size 4 x 3 (composed of 4-byte integer elements), also print the shape, type and data \n",
    "type of the array."
   ]
  },
  {
   "cell_type": "code",
   "execution_count": 5,
   "id": "d8ba9692-3bb4-42f6-8100-4e96a67b06dc",
   "metadata": {},
   "outputs": [
    {
     "name": "stdout",
     "output_type": "stream",
     "text": [
      "Array:\n",
      " [[ 1  2  3]\n",
      " [ 4  5  6]\n",
      " [ 7  8  9]\n",
      " [10 11 12]]\n",
      "\n",
      "Shape: (4, 3)\n",
      "Type: <class 'numpy.ndarray'>\n",
      "Data type of elements: int32\n"
     ]
    }
   ],
   "source": [
    "import numpy as np\n",
    "\n",
    "# 1️⃣ Create a 2D array of size 4 x 3 with 4-byte integers (int32)\n",
    "arr = np.array([[1, 2, 3],\n",
    "                [4, 5, 6],\n",
    "                [7, 8, 9],\n",
    "                [10, 11, 12]], dtype=np.int32)\n",
    "\n",
    "# 2️⃣ Print the array\n",
    "print(\"Array:\\n\", arr)\n",
    "\n",
    "# 3️⃣ Print shape\n",
    "print(\"\\nShape:\", arr.shape)\n",
    "\n",
    "# 4️⃣ Print type\n",
    "print(\"Type:\", type(arr))\n",
    "\n",
    "# 5️⃣ Print data type\n",
    "print(\"Data type of elements:\", arr.dtype)\n"
   ]
  },
  {
   "cell_type": "markdown",
   "id": "3eb7b155-f1f6-46ad-a61b-60c1d8600d96",
   "metadata": {},
   "source": [
    "c. Write a program to compute the eigenvalues and right eigenvectors of a given square array given below: \n",
    "[[ 3 -2]\n",
    "[ 1 0]]"
   ]
  },
  {
   "cell_type": "code",
   "execution_count": 6,
   "id": "3493e64e-01f1-4a96-8c46-2fbe753a3563",
   "metadata": {},
   "outputs": [
    {
     "name": "stdout",
     "output_type": "stream",
     "text": [
      "Given Array:\n",
      " [[ 3 -2]\n",
      " [ 1  0]]\n",
      "\n",
      "Eigenvalues: [2. 1.]\n",
      "\n",
      "Right Eigenvectors:\n",
      " [[0.89442719 0.70710678]\n",
      " [0.4472136  0.70710678]]\n"
     ]
    }
   ],
   "source": [
    "import numpy as np\n",
    "\n",
    "# 1️⃣ Given square array\n",
    "A = np.array([[3, -2],\n",
    "              [1,  0]])\n",
    "\n",
    "print(\"Given Array:\\n\", A)\n",
    "\n",
    "# 2️⃣ Compute eigenvalues and right eigenvectors\n",
    "eigenvalues, eigenvectors = np.linalg.eig(A)\n",
    "\n",
    "# 3️⃣ Print results\n",
    "print(\"\\nEigenvalues:\", eigenvalues)\n",
    "print(\"\\nRight Eigenvectors:\\n\", eigenvectors)\n"
   ]
  },
  {
   "cell_type": "markdown",
   "id": "ff3c8b44-d09c-4dba-8a54-6c1a96f45c1e",
   "metadata": {},
   "source": [
    "d. Compute the sum of the diagonal element of a given array. \n",
    "[[0 1 2]\n",
    "[3 4 5]]"
   ]
  },
  {
   "cell_type": "code",
   "execution_count": 7,
   "id": "c9e893b8-48db-4d4f-b926-7de4c8a9ba04",
   "metadata": {},
   "outputs": [
    {
     "name": "stdout",
     "output_type": "stream",
     "text": [
      "Given Array:\n",
      " [[0 1 2]\n",
      " [3 4 5]]\n",
      "\n",
      "Sum of diagonal elements: 4\n"
     ]
    }
   ],
   "source": [
    "import numpy as np\n",
    "\n",
    "# 1️⃣ Given array\n",
    "A = np.array([[0, 1, 2],\n",
    "              [3, 4, 5]])\n",
    "\n",
    "print(\"Given Array:\\n\", A)\n",
    "\n",
    "# 2️⃣ Compute sum of diagonal elements\n",
    "diag_sum = np.trace(A)\n",
    "\n",
    "# 3️⃣ Print result\n",
    "print(\"\\nSum of diagonal elements:\", diag_sum)\n"
   ]
  },
  {
   "cell_type": "markdown",
   "id": "c2ff4901-1cd6-41bc-8b23-9daa542212c9",
   "metadata": {},
   "source": [
    "e. Write a NumPy program to create a new shape to an array without changing its data. \n",
    "Reshape 3x2:\n",
    "[[1 2]\n",
    "[3 4]\n",
    "[5 6]]\n",
    "Reshape 2x3: \n",
    "[[1 2 3]\n",
    "[4 5 6]]"
   ]
  },
  {
   "cell_type": "code",
   "execution_count": 8,
   "id": "c5c930e7-2b5e-4c31-881f-66b20746de96",
   "metadata": {},
   "outputs": [
    {
     "name": "stdout",
     "output_type": "stream",
     "text": [
      "Original Array (3x2):\n",
      " [[1 2]\n",
      " [3 4]\n",
      " [5 6]]\n",
      "\n",
      "Reshaped Array (2x3):\n",
      " [[1 2 3]\n",
      " [4 5 6]]\n"
     ]
    }
   ],
   "source": [
    "import numpy as np\n",
    "\n",
    "# 1️⃣ Original 3x2 array\n",
    "A = np.array([[1, 2],\n",
    "              [3, 4],\n",
    "              [5, 6]])\n",
    "\n",
    "print(\"Original Array (3x2):\\n\", A)\n",
    "\n",
    "# 2️⃣ Reshape to 2x3\n",
    "A_reshaped = A.reshape(2, 3)\n",
    "\n",
    "# 3️⃣ Print reshaped array\n",
    "print(\"\\nReshaped Array (2x3):\\n\", A_reshaped)\n"
   ]
  },
  {
   "cell_type": "code",
   "execution_count": null,
   "id": "cd8b5363-4f9e-4b37-93aa-5ca5340b8afd",
   "metadata": {},
   "outputs": [],
   "source": []
  }
 ],
 "metadata": {
  "kernelspec": {
   "display_name": "Python 3 (ipykernel)",
   "language": "python",
   "name": "python3"
  },
  "language_info": {
   "codemirror_mode": {
    "name": "ipython",
    "version": 3
   },
   "file_extension": ".py",
   "mimetype": "text/x-python",
   "name": "python",
   "nbconvert_exporter": "python",
   "pygments_lexer": "ipython3",
   "version": "3.12.7"
  }
 },
 "nbformat": 4,
 "nbformat_minor": 5
}
